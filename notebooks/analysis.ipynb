{
 "cells": [
  {
   "cell_type": "code",
   "execution_count": 11,
   "metadata": {},
   "outputs": [
    {
     "name": "stdout",
     "output_type": "stream",
     "text": [
      "columns: Index(['budget', 'genres', 'homepage', 'id', 'keywords', 'original_language',\n",
      "       'original_title', 'overview', 'popularity', 'production_companies',\n",
      "       'production_countries', 'release_date', 'revenue', 'runtime',\n",
      "       'spoken_languages', 'status', 'tagline', 'title', 'vote_average',\n",
      "       'vote_count'],\n",
      "      dtype='object')\n",
      "(1, 5000)\n",
      "[[0. 0. 0. ... 0. 0. 0.]]\n"
     ]
    },
    {
     "data": {
      "text/html": [
       "<div>\n",
       "<style scoped>\n",
       "    .dataframe tbody tr th:only-of-type {\n",
       "        vertical-align: middle;\n",
       "    }\n",
       "\n",
       "    .dataframe tbody tr th {\n",
       "        vertical-align: top;\n",
       "    }\n",
       "\n",
       "    .dataframe thead th {\n",
       "        text-align: right;\n",
       "    }\n",
       "</style>\n",
       "<table border=\"1\" class=\"dataframe\">\n",
       "  <thead>\n",
       "    <tr style=\"text-align: right;\">\n",
       "      <th></th>\n",
       "      <th>movieId</th>\n",
       "      <th>title</th>\n",
       "    </tr>\n",
       "  </thead>\n",
       "  <tbody>\n",
       "    <tr>\n",
       "      <th>3337</th>\n",
       "      <td>238</td>\n",
       "      <td>The Godfather</td>\n",
       "    </tr>\n",
       "    <tr>\n",
       "      <th>867</th>\n",
       "      <td>242</td>\n",
       "      <td>The Godfather: Part III</td>\n",
       "    </tr>\n",
       "    <tr>\n",
       "      <th>2942</th>\n",
       "      <td>304357</td>\n",
       "      <td>Woman in Gold</td>\n",
       "    </tr>\n",
       "    <tr>\n",
       "      <th>4531</th>\n",
       "      <td>30246</td>\n",
       "      <td>Civil Brand</td>\n",
       "    </tr>\n",
       "    <tr>\n",
       "      <th>3285</th>\n",
       "      <td>153397</td>\n",
       "      <td>Restless</td>\n",
       "    </tr>\n",
       "  </tbody>\n",
       "</table>\n",
       "</div>"
      ],
      "text/plain": [
       "      movieId                    title\n",
       "3337      238            The Godfather\n",
       "867       242  The Godfather: Part III\n",
       "2942   304357            Woman in Gold\n",
       "4531    30246              Civil Brand\n",
       "3285   153397                 Restless"
      ]
     },
     "metadata": {},
     "output_type": "display_data"
    }
   ],
   "source": [
    "import pandas as pd\n",
    "from sklearn.feature_extraction.text import TfidfVectorizer\n",
    "from sklearn.metrics.pairwise import cosine_similarity\n",
    "import numpy as np\n",
    "\n",
    "# 1. データ読み込み\n",
    "ratings = pd.read_csv(\"ratings.csv\") # ここのシステムを考え直す（評価が変わるたびにcsvをダウンロードするわけにはいかない）\n",
    "movies  = pd.read_csv(\"tmdb_5000_movies.csv\") #　ここも、新しい映画が公開されるたびにダウンロードするわけにはいかない\n",
    "\n",
    "# 1.1 列名確認（moviesがどんなカラムを持っているかをチェック）\n",
    "print(\"columns:\", movies.columns)\n",
    "\n",
    "# 2. ID 列が 'id' なら 'movieId' にリネーム\n",
    "if \"id\" in movies.columns:\n",
    "    movies = movies.rename(columns={\"id\": \"movieId\"})\n",
    "movies[\"movieId\"] = pd.to_numeric(movies[\"movieId\"], errors=\"coerce\")\n",
    "\n",
    "# 3. NaN を空文字に置き換え\n",
    "movies[\"overview\"] = movies[\"overview\"].fillna(\"\")\n",
    "\n",
    "# 4. TF–IDF ベクトル化\n",
    "vec = TfidfVectorizer(\n",
    "    stop_words=\"english\", \n",
    "    max_features=5000,\n",
    "    )\n",
    "tfidf_matrix = vec.fit_transform(movies[\"overview\"].tolist()) # 映画ごとのあらすじを（映画数✖️5000）の行列に変換し、単語の重要度を計算\n",
    "\n",
    "# 5. 好きな映画ID 抽出（★4以上）\n",
    "liked = ratings[ratings[\"rating\"] >= 4][\"movieId\"].tolist()\n",
    "liked_indices = movies[movies[\"movieId\"].isin(liked)].index.tolist() # 映画データの表の何行目（index）に該当するかを探し出す\n",
    "\n",
    "# 6. ユーザーベクトル\n",
    "user_vec = tfidf_matrix[liked_indices].mean(axis=0)\n",
    "print(user_vec.shape)\n",
    "user_vec = np.asarray(user_vec)\n",
    "print(user_vec)\n",
    "\n",
    "# 7. 類似度計算\n",
    "sims = cosine_similarity(user_vec, tfidf_matrix).flatten()\n",
    "for idx in liked_indices:\n",
    "    sims[idx] = -1\n",
    "\n",
    "# 8. 上位5件表示\n",
    "top5_idx = np.argsort(sims)[::-1][:5]\n",
    "recommendations = movies.iloc[top5_idx][[\"movieId\",\"title\"]]\n",
    "display(recommendations)\n"
   ]
  },
  {
   "cell_type": "code",
   "execution_count": null,
   "metadata": {},
   "outputs": [],
   "source": []
  }
 ],
 "metadata": {
  "kernelspec": {
   "display_name": "Python 3 (ipykernel)",
   "language": "python",
   "name": "python3"
  },
  "language_info": {
   "codemirror_mode": {
    "name": "ipython",
    "version": 3
   },
   "file_extension": ".py",
   "mimetype": "text/x-python",
   "name": "python",
   "nbconvert_exporter": "python",
   "pygments_lexer": "ipython3",
   "version": "3.12.8"
  }
 },
 "nbformat": 4,
 "nbformat_minor": 4
}
